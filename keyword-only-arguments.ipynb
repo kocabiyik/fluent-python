{
 "cells": [
  {
   "cell_type": "code",
   "execution_count": 56,
   "metadata": {},
   "outputs": [],
   "source": [
    "def tag(name, *content, class_=None, **attrs):\n",
    "    \"\"\"Generate one or more HTML tags\"\"\"\n",
    "    if class_ is not None:\n",
    "        attrs[\"class\"] = class_\n",
    "    if attrs:\n",
    "        attr_pairs = (f' {attr}=\"{value}\"' for attr, value in sorted(attrs.items()))\n",
    "        attr_str = \"\".join(attr_pairs)\n",
    "    else:\n",
    "        attr_str = \"\"\n",
    "    if content:\n",
    "        elements = (f\"<{name}{attr_str}>{c}</{name}>\" for c in content)\n",
    "        return \"\\n\".join(elements)\n",
    "    else:\n",
    "        return f\"<{name}{attr_str}/>\""
   ]
  },
  {
   "cell_type": "code",
   "execution_count": 57,
   "metadata": {},
   "outputs": [
    {
     "data": {
      "text/plain": [
       "'<p class=\"display-1\">Hello World!</p>'"
      ]
     },
     "execution_count": 57,
     "metadata": {},
     "output_type": "execute_result"
    }
   ],
   "source": [
    "tag(\"p\", \"Hello World!\", class_=\"display-1\")"
   ]
  },
  {
   "cell_type": "code",
   "execution_count": 58,
   "metadata": {},
   "outputs": [],
   "source": [
    "my_tag = {\n",
    "    \"name\": \"img\",\n",
    "    \"title\": \"Sunset Boulevard\",\n",
    "    \"src\": \"sunset.jpg\",\n",
    "    \"class\": \"framed\",\n",
    "}"
   ]
  },
  {
   "cell_type": "code",
   "execution_count": 60,
   "metadata": {},
   "outputs": [
    {
     "data": {
      "text/plain": [
       "'<img class=\"framed\" src=\"sunset.jpg\" title=\"Sunset Boulevard\"/>'"
      ]
     },
     "execution_count": 60,
     "metadata": {},
     "output_type": "execute_result"
    }
   ],
   "source": [
    "tag(**my_tag)"
   ]
  },
  {
   "cell_type": "code",
   "execution_count": 64,
   "metadata": {},
   "outputs": [],
   "source": [
    "another_tag = {\n",
    "    \"name\": \"a\",\n",
    "    \"href\": \"www.google.com\",\n",
    "    \"target\": \"_blank\",\n",
    "    \"class\": \"sidebar\",\n",
    "}"
   ]
  },
  {
   "cell_type": "code",
   "execution_count": 65,
   "metadata": {},
   "outputs": [
    {
     "data": {
      "text/plain": [
       "'<a class=\"sidebar\" href=\"www.google.com\" target=\"_blank\"/>'"
      ]
     },
     "execution_count": 65,
     "metadata": {},
     "output_type": "execute_result"
    }
   ],
   "source": [
    "tag(**another_tag)"
   ]
  }
 ],
 "metadata": {
  "kernelspec": {
   "display_name": "Python 3",
   "language": "python",
   "name": "python3"
  },
  "language_info": {
   "codemirror_mode": {
    "name": "ipython",
    "version": 3
   },
   "file_extension": ".py",
   "mimetype": "text/x-python",
   "name": "python",
   "nbconvert_exporter": "python",
   "pygments_lexer": "ipython3",
   "version": "3.7.3"
  }
 },
 "nbformat": 4,
 "nbformat_minor": 4
}
